{
  "nbformat": 4,
  "nbformat_minor": 0,
  "metadata": {
    "colab": {
      "provenance": [],
      "authorship_tag": "ABX9TyO7ccpISB5UsBxUssSGrkAx",
      "include_colab_link": true
    },
    "kernelspec": {
      "name": "python3",
      "display_name": "Python 3"
    },
    "language_info": {
      "name": "python"
    }
  },
  "cells": [
    {
      "cell_type": "markdown",
      "metadata": {
        "id": "view-in-github",
        "colab_type": "text"
      },
      "source": [
        "<a href=\"https://colab.research.google.com/github/emh0841-code/Final-Team9/blob/main/%EC%8B%9C%EB%8C%80%EC%97%90_%EB%94%B0%EB%9D%BC_%ED%9D%A5%ED%96%89%ED%95%98%EB%8A%94_%EC%9E%A5%EB%A5%B4%EA%B0%80_%EB%8B%A4%EB%A5%BC%EA%B2%83%EC%9D%B4%EB%8B%A4_9/28.ipynb\" target=\"_parent\"><img src=\"https://colab.research.google.com/assets/colab-badge.svg\" alt=\"Open In Colab\"/></a>"
      ]
    },
    {
      "cell_type": "code",
      "source": [
        "#한글 글씨 폰트 설치\n",
        "%%capture\n",
        "!sudo apt-get install -y fonts-nanum\n",
        "!sudo fc-cache -fv\n",
        "!rm ~/.cache/matplotlib -rf\n",
        "\n",
        "import matplotlib.pyplot as plt\n",
        "import matplotlib.font_manager as fm\n",
        "fm.fontManager.addfont('/usr/share/fonts/truetype/nanum/NanumGothic.ttf')\n",
        "plt.rcParams['font.family'] = 'NanumGothic'\n",
        "\n",
        "# 표에서 ('-') 마이너스 표시\n",
        "plt.rcParams['axes.unicode_minus'] = False\n",
        "\n",
        "# 필요한 라이브러리 임포트\n",
        "import pandas as pd # 데이터 분석 라이브러리\n",
        "import numpy as np\n",
        "import matplotlib.pyplot as plt # 시각화 도구 라이브러리1\n",
        "import seaborn as sns # 시각화 도구 라이브러리2"
      ],
      "metadata": {
        "id": "dtNwsNG1hcvV"
      },
      "execution_count": 1,
      "outputs": []
    },
    {
      "cell_type": "code",
      "source": [
        "df = pd.read_csv(\"/content/movies_genres_ohe.csv\", on_bad_lines='skip')"
      ],
      "metadata": {
        "id": "mCPPeaJvikLP",
        "colab": {
          "base_uri": "https://localhost:8080/",
          "height": 298
        },
        "outputId": "02658743-b4ef-464d-f7d8-8b01ef91c919"
      },
      "execution_count": 2,
      "outputs": [
        {
          "output_type": "error",
          "ename": "FileNotFoundError",
          "evalue": "[Errno 2] No such file or directory: '/content/movies_genres_ohe.csv'",
          "traceback": [
            "\u001b[0;31m---------------------------------------------------------------------------\u001b[0m",
            "\u001b[0;31mFileNotFoundError\u001b[0m                         Traceback (most recent call last)",
            "\u001b[0;32m/tmp/ipython-input-848890725.py\u001b[0m in \u001b[0;36m<cell line: 0>\u001b[0;34m()\u001b[0m\n\u001b[0;32m----> 1\u001b[0;31m \u001b[0mdf\u001b[0m \u001b[0;34m=\u001b[0m \u001b[0mpd\u001b[0m\u001b[0;34m.\u001b[0m\u001b[0mread_csv\u001b[0m\u001b[0;34m(\u001b[0m\u001b[0;34m\"/content/movies_genres_ohe.csv\"\u001b[0m\u001b[0;34m,\u001b[0m \u001b[0mon_bad_lines\u001b[0m\u001b[0;34m=\u001b[0m\u001b[0;34m'skip'\u001b[0m\u001b[0;34m)\u001b[0m\u001b[0;34m\u001b[0m\u001b[0;34m\u001b[0m\u001b[0m\n\u001b[0m",
            "\u001b[0;32m/usr/local/lib/python3.12/dist-packages/pandas/io/parsers/readers.py\u001b[0m in \u001b[0;36mread_csv\u001b[0;34m(filepath_or_buffer, sep, delimiter, header, names, index_col, usecols, dtype, engine, converters, true_values, false_values, skipinitialspace, skiprows, skipfooter, nrows, na_values, keep_default_na, na_filter, verbose, skip_blank_lines, parse_dates, infer_datetime_format, keep_date_col, date_parser, date_format, dayfirst, cache_dates, iterator, chunksize, compression, thousands, decimal, lineterminator, quotechar, quoting, doublequote, escapechar, comment, encoding, encoding_errors, dialect, on_bad_lines, delim_whitespace, low_memory, memory_map, float_precision, storage_options, dtype_backend)\u001b[0m\n\u001b[1;32m   1024\u001b[0m     \u001b[0mkwds\u001b[0m\u001b[0;34m.\u001b[0m\u001b[0mupdate\u001b[0m\u001b[0;34m(\u001b[0m\u001b[0mkwds_defaults\u001b[0m\u001b[0;34m)\u001b[0m\u001b[0;34m\u001b[0m\u001b[0;34m\u001b[0m\u001b[0m\n\u001b[1;32m   1025\u001b[0m \u001b[0;34m\u001b[0m\u001b[0m\n\u001b[0;32m-> 1026\u001b[0;31m     \u001b[0;32mreturn\u001b[0m \u001b[0m_read\u001b[0m\u001b[0;34m(\u001b[0m\u001b[0mfilepath_or_buffer\u001b[0m\u001b[0;34m,\u001b[0m \u001b[0mkwds\u001b[0m\u001b[0;34m)\u001b[0m\u001b[0;34m\u001b[0m\u001b[0;34m\u001b[0m\u001b[0m\n\u001b[0m\u001b[1;32m   1027\u001b[0m \u001b[0;34m\u001b[0m\u001b[0m\n\u001b[1;32m   1028\u001b[0m \u001b[0;34m\u001b[0m\u001b[0m\n",
            "\u001b[0;32m/usr/local/lib/python3.12/dist-packages/pandas/io/parsers/readers.py\u001b[0m in \u001b[0;36m_read\u001b[0;34m(filepath_or_buffer, kwds)\u001b[0m\n\u001b[1;32m    618\u001b[0m \u001b[0;34m\u001b[0m\u001b[0m\n\u001b[1;32m    619\u001b[0m     \u001b[0;31m# Create the parser.\u001b[0m\u001b[0;34m\u001b[0m\u001b[0;34m\u001b[0m\u001b[0m\n\u001b[0;32m--> 620\u001b[0;31m     \u001b[0mparser\u001b[0m \u001b[0;34m=\u001b[0m \u001b[0mTextFileReader\u001b[0m\u001b[0;34m(\u001b[0m\u001b[0mfilepath_or_buffer\u001b[0m\u001b[0;34m,\u001b[0m \u001b[0;34m**\u001b[0m\u001b[0mkwds\u001b[0m\u001b[0;34m)\u001b[0m\u001b[0;34m\u001b[0m\u001b[0;34m\u001b[0m\u001b[0m\n\u001b[0m\u001b[1;32m    621\u001b[0m \u001b[0;34m\u001b[0m\u001b[0m\n\u001b[1;32m    622\u001b[0m     \u001b[0;32mif\u001b[0m \u001b[0mchunksize\u001b[0m \u001b[0;32mor\u001b[0m \u001b[0miterator\u001b[0m\u001b[0;34m:\u001b[0m\u001b[0;34m\u001b[0m\u001b[0;34m\u001b[0m\u001b[0m\n",
            "\u001b[0;32m/usr/local/lib/python3.12/dist-packages/pandas/io/parsers/readers.py\u001b[0m in \u001b[0;36m__init__\u001b[0;34m(self, f, engine, **kwds)\u001b[0m\n\u001b[1;32m   1618\u001b[0m \u001b[0;34m\u001b[0m\u001b[0m\n\u001b[1;32m   1619\u001b[0m         \u001b[0mself\u001b[0m\u001b[0;34m.\u001b[0m\u001b[0mhandles\u001b[0m\u001b[0;34m:\u001b[0m \u001b[0mIOHandles\u001b[0m \u001b[0;34m|\u001b[0m \u001b[0;32mNone\u001b[0m \u001b[0;34m=\u001b[0m \u001b[0;32mNone\u001b[0m\u001b[0;34m\u001b[0m\u001b[0;34m\u001b[0m\u001b[0m\n\u001b[0;32m-> 1620\u001b[0;31m         \u001b[0mself\u001b[0m\u001b[0;34m.\u001b[0m\u001b[0m_engine\u001b[0m \u001b[0;34m=\u001b[0m \u001b[0mself\u001b[0m\u001b[0;34m.\u001b[0m\u001b[0m_make_engine\u001b[0m\u001b[0;34m(\u001b[0m\u001b[0mf\u001b[0m\u001b[0;34m,\u001b[0m \u001b[0mself\u001b[0m\u001b[0;34m.\u001b[0m\u001b[0mengine\u001b[0m\u001b[0;34m)\u001b[0m\u001b[0;34m\u001b[0m\u001b[0;34m\u001b[0m\u001b[0m\n\u001b[0m\u001b[1;32m   1621\u001b[0m \u001b[0;34m\u001b[0m\u001b[0m\n\u001b[1;32m   1622\u001b[0m     \u001b[0;32mdef\u001b[0m \u001b[0mclose\u001b[0m\u001b[0;34m(\u001b[0m\u001b[0mself\u001b[0m\u001b[0;34m)\u001b[0m \u001b[0;34m->\u001b[0m \u001b[0;32mNone\u001b[0m\u001b[0;34m:\u001b[0m\u001b[0;34m\u001b[0m\u001b[0;34m\u001b[0m\u001b[0m\n",
            "\u001b[0;32m/usr/local/lib/python3.12/dist-packages/pandas/io/parsers/readers.py\u001b[0m in \u001b[0;36m_make_engine\u001b[0;34m(self, f, engine)\u001b[0m\n\u001b[1;32m   1878\u001b[0m                 \u001b[0;32mif\u001b[0m \u001b[0;34m\"b\"\u001b[0m \u001b[0;32mnot\u001b[0m \u001b[0;32min\u001b[0m \u001b[0mmode\u001b[0m\u001b[0;34m:\u001b[0m\u001b[0;34m\u001b[0m\u001b[0;34m\u001b[0m\u001b[0m\n\u001b[1;32m   1879\u001b[0m                     \u001b[0mmode\u001b[0m \u001b[0;34m+=\u001b[0m \u001b[0;34m\"b\"\u001b[0m\u001b[0;34m\u001b[0m\u001b[0;34m\u001b[0m\u001b[0m\n\u001b[0;32m-> 1880\u001b[0;31m             self.handles = get_handle(\n\u001b[0m\u001b[1;32m   1881\u001b[0m                 \u001b[0mf\u001b[0m\u001b[0;34m,\u001b[0m\u001b[0;34m\u001b[0m\u001b[0;34m\u001b[0m\u001b[0m\n\u001b[1;32m   1882\u001b[0m                 \u001b[0mmode\u001b[0m\u001b[0;34m,\u001b[0m\u001b[0;34m\u001b[0m\u001b[0;34m\u001b[0m\u001b[0m\n",
            "\u001b[0;32m/usr/local/lib/python3.12/dist-packages/pandas/io/common.py\u001b[0m in \u001b[0;36mget_handle\u001b[0;34m(path_or_buf, mode, encoding, compression, memory_map, is_text, errors, storage_options)\u001b[0m\n\u001b[1;32m    871\u001b[0m         \u001b[0;32mif\u001b[0m \u001b[0mioargs\u001b[0m\u001b[0;34m.\u001b[0m\u001b[0mencoding\u001b[0m \u001b[0;32mand\u001b[0m \u001b[0;34m\"b\"\u001b[0m \u001b[0;32mnot\u001b[0m \u001b[0;32min\u001b[0m \u001b[0mioargs\u001b[0m\u001b[0;34m.\u001b[0m\u001b[0mmode\u001b[0m\u001b[0;34m:\u001b[0m\u001b[0;34m\u001b[0m\u001b[0;34m\u001b[0m\u001b[0m\n\u001b[1;32m    872\u001b[0m             \u001b[0;31m# Encoding\u001b[0m\u001b[0;34m\u001b[0m\u001b[0;34m\u001b[0m\u001b[0m\n\u001b[0;32m--> 873\u001b[0;31m             handle = open(\n\u001b[0m\u001b[1;32m    874\u001b[0m                 \u001b[0mhandle\u001b[0m\u001b[0;34m,\u001b[0m\u001b[0;34m\u001b[0m\u001b[0;34m\u001b[0m\u001b[0m\n\u001b[1;32m    875\u001b[0m                 \u001b[0mioargs\u001b[0m\u001b[0;34m.\u001b[0m\u001b[0mmode\u001b[0m\u001b[0;34m,\u001b[0m\u001b[0;34m\u001b[0m\u001b[0;34m\u001b[0m\u001b[0m\n",
            "\u001b[0;31mFileNotFoundError\u001b[0m: [Errno 2] No such file or directory: '/content/movies_genres_ohe.csv'"
          ]
        }
      ]
    },
    {
      "cell_type": "code",
      "source": [
        "import pandas as pd\n",
        "import numpy as np\n",
        "import seaborn as sns\n",
        "import matplotlib.pyplot as plt\n",
        "from scipy.stats import shapiro, f_oneway, kruskal\n",
        "\n",
        "df.columns = df.columns.str.strip()\n",
        "\n",
        "# 날짜 → year\n",
        "df[\"release_date\"] = pd.to_datetime(df[\"release_date\"], errors=\"coerce\")\n",
        "df[\"year\"] = df[\"release_date\"].dt.year\n",
        "\n",
        "# ===== 1) 1990~2025 구간 필터 =====\n",
        "df = df[(df[\"year\"] >= 1990) & (df[\"year\"] <= 2025)].copy()\n",
        "\n",
        "# ===== 2) 5년 단위 구간 만들기 =====\n",
        "bins   = list(range(1990, 2030, 5))   # [1990,1995,...,2025]\n",
        "labels = [f\"{y}–{y+4}\" for y in bins[:-1]]\n",
        "df[\"period\"] = pd.cut(df[\"year\"], bins=bins, labels=labels, right=True, include_lowest=True)\n",
        "\n",
        "# ===== 3) 장르(0/1) 컬럼 추출 =====\n",
        "cols = df.loc[:, \"Action\":\"Western\"].columns.tolist()\n",
        "\n",
        "# ===== 4) 장르별 전체 편수 확인 =====\n",
        "col_counts = df[cols].sum().sort_values(ascending=False)\n",
        "print(\"[1990~2025] 장르별 전체 편수:\\n\", col_counts, \"\\n\")\n",
        "\n",
        "# ===== 5) 시대 × 장르별 y_result 평균 =====\n",
        "period_genre = {}\n",
        "for c in cols:\n",
        "    period_genre[c] = df.loc[df[c] == 1].groupby(\"period\")[\"y_result\"].mean()\n",
        "\n",
        "period_genre = pd.DataFrame(period_genre).sort_index()\n",
        "print(\"5년 단위 × 장르별 평균 y_result (1990~2025):\")\n",
        "print(period_genre, \"\\n\")\n",
        "\n",
        "# ===== 6) 히트맵 시각화 =====\n",
        "plt.figure(figsize=(14,8))\n",
        "sns.heatmap(period_genre, annot=True, fmt=\".2f\", cmap=\"YlGnBu\")\n",
        "plt.title(\"5년 단위 × 장르별 평균 y_result (1990~2025)\")\n",
        "plt.xlabel(\"장르\")\n",
        "plt.ylabel(\"Period\")\n",
        "plt.show()\n",
        "\n",
        "# ===== 7) 전체 기간 평균 기준 상위 5개 장르 =====\n",
        "topN = 5\n",
        "top_cols = period_genre.mean().sort_values(ascending=False).head(topN).index.tolist()\n",
        "print(f\"1990~2025 상위 {topN}개 장르:\", top_cols, \"\\n\")\n",
        "\n",
        "# 라인그래프 (Top5 트렌드)\n",
        "period_genre[top_cols].plot(marker=\"o\", figsize=(14,6))\n",
        "plt.title(f\"5년 단위 평균 y_result 흐름 (1990~2025, 상위 {topN} 장르)\")\n",
        "plt.xlabel(\"Period\")\n",
        "plt.ylabel(\"평균 y_result\")\n",
        "plt.legend(title=\"장르\")\n",
        "plt.show()\n"
      ],
      "metadata": {
        "id": "Dho9kNtRf5zX"
      },
      "execution_count": null,
      "outputs": []
    },
    {
      "cell_type": "code",
      "source": [
        "from scipy.stats import shapiro, levene, f_oneway, kruskal\n",
        "\n",
        "# 1) 정규성 검정 (Shapiro-Wilk)\n",
        "print(\"[정규성 검정: Shapiro-Wilk] (1990~2025, 전체 장르)\")\n",
        "normality_results = {}\n",
        "for c in cols:  # cols = ['Action', ..., 'Western']\n",
        "    vals = df.loc[df[c] == 1, \"y_result\"].dropna()\n",
        "    if len(vals) >= 8:  # 샘플이 너무 적으면 제외\n",
        "        stat, p = shapiro(vals)\n",
        "        normality_results[c] = (stat, p, len(vals))\n",
        "        print(f\"{c:15s} → W={stat:.4f}, p={p:.4e}, n={len(vals)}\")\n",
        "    else:\n",
        "        print(f\"{c:15s} → 샘플 부족 (n={len(vals)})\")\n",
        "\n",
        "# 2) 등분산성 검정 (Levene test, 모든 장르 비교)\n",
        "groups = [df.loc[df[c] == 1, \"y_result\"].dropna() for c in cols if len(df.loc[df[c] == 1, \"y_result\"].dropna()) > 1]\n",
        "stat, p = levene(*groups)\n",
        "print(f\"\\n[등분산성 검정: Levene]\\nW={stat:.4f}, p={p:.4e}\")\n",
        "\n",
        "# 3) ANOVA & Kruskal-Wallis\n",
        "if all(pv > 0.05 for _, pv, _ in normality_results.values()):\n",
        "    # 전체 장르가 정규성을 만족한다면 ANOVA\n",
        "    f_stat, p_val = f_oneway(*groups)\n",
        "    print(f\"\\n[ANOVA 결과]\\nF={f_stat:.4f}, p={p_val:.4e}\")\n",
        "else:\n",
        "    # 정규성 깨지면 Kruskal-Wallis\n",
        "    h_stat, p_val = kruskal(*groups)\n",
        "    print(f\"\\n[Kruskal-Wallis 결과]\\nH={h_stat:.4f}, p={p_val:.4e}\")\n"
      ],
      "metadata": {
        "id": "0kxRNRKD2aLP"
      },
      "execution_count": null,
      "outputs": []
    },
    {
      "cell_type": "markdown",
      "source": [
        "1990~2025년 전체 장르 간 y_result 분포에는 매우 유의한 차이"
      ],
      "metadata": {
        "id": "jgQtK_z52jwH"
      }
    },
    {
      "cell_type": "markdown",
      "source": [
        "최신기간기준 top5"
      ],
      "metadata": {
        "id": "qHFT1DaLj7QS"
      }
    },
    {
      "cell_type": "code",
      "source": [
        "\n",
        "# 0) year & 5년 구간(period) 만들기\n",
        "df[\"release_date\"] = pd.to_datetime(df[\"release_date\"], errors=\"coerce\")\n",
        "df[\"year\"] = df[\"release_date\"].dt.year\n",
        "df = df[(df[\"year\"] >= 1990) & (df[\"year\"] <= 2025)].copy()\n",
        "\n",
        "bins   = list(range(1990, 2030, 5))                 # [1990,1995,...,2025]\n",
        "labels = [f\"{y}–{y+4}\" for y in bins[:-1]]          # '1990–1994' 형식\n",
        "df[\"period\"] = pd.cut(df[\"year\"], bins=bins, labels=labels, right=True, include_lowest=True)\n",
        "\n",
        "# 1) 장르 컬럼\n",
        "cols = df.loc[:, \"Action\":\"Western\"].columns.tolist()\n",
        "\n",
        "# 2) '2020–2024'에서 장르별 평균 y_result → Top5\n",
        "latest_period = \"2020–2024\"\n",
        "df_latest = df[df[\"period\"] == latest_period].copy()\n",
        "\n",
        "genre_mean_latest = {\n",
        "    c: df_latest.loc[df_latest[c]==1, \"y_result\"].mean() for c in cols\n",
        "}\n",
        "genre_mean_latest = pd.Series(genre_mean_latest).dropna().sort_values(ascending=False)\n",
        "\n",
        "topN = 5\n",
        "top_cols_latest = genre_mean_latest.head(topN).index.tolist()\n",
        "print(f\"{latest_period} Top{topN} 장르:\", top_cols_latest)\n",
        "\n",
        "# 3) 전체(1990~2025)에서 이 Top5 장르의 5년 단위 평균 y_result 흐름\n",
        "period_trend = {}\n",
        "for c in top_cols_latest:\n",
        "    period_trend[c] = df.loc[df[c]==1].groupby(\"period\")[\"y_result\"].mean()\n",
        "\n",
        "period_trend = pd.DataFrame(period_trend).reindex(labels)  # 구간 순서 보장\n",
        "print(f\"\\n{latest_period} Top{topN} 장르의 5년 단위 평균 y_result 흐름:\")\n",
        "print(period_trend)\n",
        "\n",
        "# 4) 시각화\n",
        "ax = period_trend.plot(marker=\"o\", figsize=(12,6))\n",
        "ax.set_title(f\"{latest_period} Top{topN} 장르의 5년 단위 y_result 흐름\")\n",
        "ax.set_xlabel(\"5년 구간\")\n",
        "ax.set_ylabel(\"평균 y_result\")\n",
        "plt.xticks(rotation=45, ha=\"right\")\n",
        "plt.tight_layout()\n",
        "plt.show()\n"
      ],
      "metadata": {
        "id": "Pv9ck5wdkLsz"
      },
      "execution_count": null,
      "outputs": []
    },
    {
      "cell_type": "markdown",
      "source": [
        "전체기간 기준으로 top5"
      ],
      "metadata": {
        "id": "UaR4_6a3kYJq"
      }
    },
    {
      "cell_type": "code",
      "source": [
        "\n",
        "\n",
        "# ===== 0) year & 5년 구간 만들기\n",
        "df[\"release_date\"] = pd.to_datetime(df[\"release_date\"], errors=\"coerce\")\n",
        "df[\"year\"] = df[\"release_date\"].dt.year\n",
        "df = df[(df[\"year\"] >= 1990) & (df[\"year\"] <= 2025)].copy()\n",
        "\n",
        "bins   = list(range(1990, 2030, 5))                 # [1990,1995,...,2025]\n",
        "labels = [f\"{y}–{y+4}\" for y in bins[:-1]]\n",
        "df[\"period\"] = pd.cut(df[\"year\"], bins=bins, labels=labels,\n",
        "                      right=True, include_lowest=True)\n",
        "\n",
        "# ===== 1) 장르 컬럼\n",
        "cols = df.loc[:, \"Action\":\"Western\"].columns.tolist()\n",
        "\n",
        "# ===== 2) 전체 구간에서 장르별 평균 y_result\n",
        "genre_mean_all = {\n",
        "    c: df.loc[df[c]==1, \"y_result\"].mean() for c in cols\n",
        "}\n",
        "genre_mean_all = pd.Series(genre_mean_all).dropna().sort_values(ascending=False)\n",
        "\n",
        "topN = 5   # 상위 몇 개 장르를 볼지\n",
        "top_cols_all = genre_mean_all.head(topN).index.tolist()\n",
        "print(f\"1990~2025 전체 평균 기준 Top{topN} 장르:\", top_cols_all)\n",
        "\n",
        "# ===== 3) 이 TopN 장르들의 5년 단위 평균 y_result 트렌드\n",
        "period_trend = {}\n",
        "for c in top_cols_all:\n",
        "    period_trend[c] = df.loc[df[c]==1].groupby(\"period\")[\"y_result\"].mean()\n",
        "\n",
        "period_trend = pd.DataFrame(period_trend).reindex(labels)  # 구간 순서 보장\n",
        "\n",
        "print(f\"\\nTop{topN} 장르의 5년 단위 평균 y_result 트렌드:\")\n",
        "print(period_trend)\n",
        "\n",
        "# ===== 4) 시각화\n",
        "plt.figure(figsize=(12,6))\n",
        "for c in top_cols_all:\n",
        "    plt.plot(period_trend.index, period_trend[c], marker=\"o\", label=c)\n",
        "\n",
        "plt.title(f\"Top{topN} 장르 (1990~2025 전체 평균 기준)의 5년 단위 y_result 흐름\")\n",
        "plt.xlabel(\"5년 구간\")\n",
        "plt.ylabel(\"평균 y_result\")\n",
        "plt.xticks(rotation=45, ha=\"right\")\n",
        "plt.legend(title=\"장르\")\n",
        "plt.tight_layout()\n",
        "plt.show()\n"
      ],
      "metadata": {
        "id": "a6ljhmkLjz7T"
      },
      "execution_count": null,
      "outputs": []
    },
    {
      "cell_type": "markdown",
      "source": [
        "최신기간 기준"
      ],
      "metadata": {
        "id": "B2AVsEiso3sd"
      }
    },
    {
      "cell_type": "code",
      "source": [
        "\n",
        "# ===== 1) release_year & year_bin 생성 =====\n",
        "df[\"release_year\"] = pd.to_datetime(df[\"release_date\"], errors=\"coerce\").dt.year\n",
        "df = df[df[\"release_year\"].notna()].copy()\n",
        "df[\"release_year\"] = df[\"release_year\"].astype(int)\n",
        "\n",
        "# 5년 단위 bin\n",
        "df[\"year_bin\"] = (df[\"release_year\"] // 5) * 5\n",
        "\n",
        "# 1990~2025년만 사용\n",
        "df = df[df[\"year_bin\"] >= 1990].copy()\n",
        "df.loc[df[\"release_year\"] >= 2025, \"year_bin\"] = 2025  # 2025 이후 데이터 포함\n",
        "\n",
        "# ===== 2) 장르 컬럼 자동 추출 =====\n",
        "cols = df.loc[:, \"Action\":\"Western\"].columns.tolist()\n",
        "\n",
        "# ===== 3) 최신 구간 찾기 =====\n",
        "latest_bin = df[\"year_bin\"].max()\n",
        "\n",
        "# 최신 구간 데이터만\n",
        "df_latest = df[df[\"year_bin\"] == latest_bin]\n",
        "\n",
        "# 최신 구간에서 장르별 평균 y_result\n",
        "genre_mean_latest = {\n",
        "    c: df_latest.loc[df_latest[c] == 1, \"y_result\"].mean() for c in cols\n",
        "}\n",
        "genre_mean_latest = pd.Series(genre_mean_latest).dropna().sort_values(ascending=False)\n",
        "\n",
        "# 최신 구간 Top5 장르\n",
        "top5 = genre_mean_latest.head(5).index.tolist()\n",
        "print(f\" {latest_bin}년대 기준 Top5 장르:\", top5)\n",
        "\n",
        "# ===== 4) Top5 장르의 5년 단위 평균 y_result 추세 =====\n",
        "trend_top5 = {c: df.loc[df[c] == 1].groupby(\"year_bin\")[\"y_result\"].mean() for c in top5}\n",
        "trend_top5 = pd.DataFrame(trend_top5).sort_index()\n",
        "\n",
        "# 각 구간별 비율(%) 변환 (합=100%)\n",
        "trend_top5_pct = trend_top5.div(trend_top5.sum(axis=1).replace(0, np.nan), axis=0) * 100\n",
        "\n",
        "# ===== 5) 시각화 (스택형 막대그래프, 100% 비율) =====\n",
        "ax = trend_top5_pct.plot(kind=\"bar\", stacked=True, figsize=(14,7), alpha=0.9)\n",
        "ax.set_title(f\"최신구간 기준 1990~{latest_bin} (5년 단위) Top5 장르 y_result 비율 (100%)\")\n",
        "ax.set_xlabel(\"Year Bin (5년 단위)\")\n",
        "ax.set_ylabel(\"비율 (%)\")\n",
        "ax.legend(title=\"장르\", bbox_to_anchor=(1.02, 1), loc=\"upper left\")\n",
        "\n",
        "# 막대 내부에 % 라벨 (8% 이상만 표시)\n",
        "for container in ax.containers:\n",
        "    labels = [f\"{h.get_height():.0f}%\" if h.get_height() >= 8 else \"\" for h in container]\n",
        "    ax.bar_label(container, labels=labels, label_type='center', fontsize=9)\n",
        "\n",
        "plt.tight_layout()\n",
        "plt.show()\n"
      ],
      "metadata": {
        "id": "Xk0vlS7Lrk2B"
      },
      "execution_count": null,
      "outputs": []
    },
    {
      "cell_type": "code",
      "source": [
        "# ===== 0) 연도 & 5년 단위 구간(period) 만들기 =====\n",
        "df[\"release_date\"] = pd.to_datetime(df[\"release_date\"], errors=\"coerce\")\n",
        "df[\"year\"] = df[\"release_date\"].dt.year\n",
        "df = df[(df[\"year\"] >= 1990) & (df[\"year\"] <= 2025)].copy()\n",
        "\n",
        "bins   = list(range(1990, 2030, 5))            # [1990,1995,...,2025]\n",
        "labels = [f\"{y}–{y+4}\" for y in bins[:-1]]     # '1990–1994' 형식\n",
        "df[\"period\"] = pd.cut(df[\"year\"], bins=bins, labels=labels,\n",
        "                      right=True, include_lowest=True)\n",
        "\n",
        "# ===== 1) 전체 장르별 5년 단위 평균 y_result 계산 =====\n",
        "period_trend_all = {}\n",
        "for c in cols:  # cols = ['Action','Adventure',...,'Western']\n",
        "    period_trend_all[c] = df.loc[df[c] == 1].groupby(\"period\")[\"y_result\"].mean()\n",
        "\n",
        "period_trend_all = pd.DataFrame(period_trend_all).reindex(labels)  # 구간 순서 맞춤\n",
        "\n",
        "print(\"\\n전체 장르의 5년 단위 평균 y_result 흐름:\")\n",
        "print(period_trend_all)\n",
        "\n",
        "# ===== 2) 시각화 =====\n",
        "plt.figure(figsize=(14,7))\n",
        "for c in period_trend_all.columns:\n",
        "    plt.plot(period_trend_all.index, period_trend_all[c], marker=\"o\", label=c, alpha=0.7)\n",
        "\n",
        "plt.title(\"전체 장르의 5년 단위 y_result 트렌드 (1990~2025)\")\n",
        "plt.xlabel(\"5년 구간\")\n",
        "plt.ylabel(\"평균 y_result\")\n",
        "plt.xticks(rotation=45, ha=\"right\")\n",
        "plt.legend(title=\"장르\", bbox_to_anchor=(1.05, 1), loc=\"upper left\")\n",
        "plt.tight_layout()\n",
        "plt.show()\n",
        "\n"
      ],
      "metadata": {
        "id": "f7ovE02brub8"
      },
      "execution_count": null,
      "outputs": []
    },
    {
      "cell_type": "code",
      "source": [
        "# 0) 준비: 연도/5년 주기\n",
        "df[\"release_year\"] = pd.to_datetime(df[\"release_date\"], errors=\"coerce\").dt.year\n",
        "df[\"year_bin\"] = (df[\"release_year\"] // 5) * 5\n",
        "df = df[df[\"year_bin\"] >= 1990].copy()\n",
        "df.loc[df[\"release_year\"] >= 2025, \"year_bin\"] = 2025  # 2025 포함\n",
        "\n",
        "# 1) 전체 장르별 5년 주기 평균 y_result 계산\n",
        "trend_all = {}\n",
        "for c in cols:   # cols = ['Action','Adventure',...,'Western'] 장르 리스트\n",
        "    trend_all[c] = df.loc[df[c]==1].groupby(\"year_bin\")[\"y_result\"].mean()\n",
        "\n",
        "trend_all = pd.DataFrame(trend_all).sort_index()\n",
        "\n",
        "# 2) 100% 정규화\n",
        "trend_all_pct = trend_all.div(trend_all.sum(axis=1), axis=0) * 100\n",
        "\n",
        "# 3) 초기↔최신 변화(퍼센트p) 계산\n",
        "first_bin = trend_all_pct.index.min()\n",
        "latest_bin = trend_all_pct.index.max()\n",
        "change_pp_all = (trend_all_pct.loc[latest_bin] - trend_all_pct.loc[first_bin]).sort_values()\n",
        "\n",
        "# 4) 시각화: 왼쪽 = 100% 누적 막대(전체 장르), 오른쪽 = 변화(퍼센트p)\n",
        "fig = plt.figure(figsize=(18,9))\n",
        "gs = fig.add_gridspec(1, 2, width_ratios=[2.5, 1])\n",
        "\n",
        "# (a) 100% 누적 막대\n",
        "ax1 = fig.add_subplot(gs[0,0])\n",
        "trend_all_pct.plot(kind=\"bar\", stacked=True, ax=ax1, alpha=0.9)\n",
        "ax1.set_title(\"1990~2025 (5년 주기) 전체 장르의 y_result 비율 (100%)\")\n",
        "ax1.set_xlabel(\"Year Bin (5년 단위)\")\n",
        "ax1.set_ylabel(\"비율 (%)\")\n",
        "ax1.legend(title=\"장르\", bbox_to_anchor=(1.02, 1), loc=\"upper left\")\n",
        "\n",
        "# 막대 라벨(퍼센트 표시, 작은 값 생략)\n",
        "for container in ax1.containers:\n",
        "    labels = []\n",
        "    for h in container:\n",
        "        val = h.get_height()\n",
        "        labels.append(f\"{val:.0f}%\" if val >= 8 else \"\")\n",
        "    ax1.bar_label(container, labels=labels, label_type='center', fontsize=8)\n",
        "\n",
        "\n"
      ],
      "metadata": {
        "id": "L_ktP5UY-nXG"
      },
      "execution_count": null,
      "outputs": []
    },
    {
      "cell_type": "code",
      "source": [
        "\n",
        "\n",
        "# 2) 연도 추출\n",
        "df[\"release_date\"] = pd.to_datetime(df[\"release_date\"], errors=\"coerce\")\n",
        "df[\"year\"] = df[\"release_date\"].dt.year\n",
        "df = df[df[\"year\"] >= 1980].copy()\n",
        "\n",
        "# 3) 5년 단위 구간 생성\n",
        "bins = list(range(1980, 2025, 5))   # [1980, 1985, ..., 2020]\n",
        "labels = [f\"{y}–{y+4}\" for y in bins[:-1]]\n",
        "df[\"five_year_bin\"] = pd.cut(df[\"year\"], bins=bins, labels=labels, right=True, include_lowest=True)\n",
        "\n",
        "# 4) 장르 컬럼 정의 (0/1 더미)\n",
        "genre_cols = [\n",
        "    'Action','Adventure','Animation','Comedy','Crime','Documentary','Drama','Family',\n",
        "    'Fantasy','History','Horror','Music','Mystery','Romance','Science Fiction',\n",
        "    'TV Movie','Thriller','War','Western'\n",
        "]\n",
        "genre_cols = [c for c in genre_cols if c in df.columns]\n",
        "\n",
        "# 5) 시대 × 장르별 영화 편수\n",
        "genre_by_period = df.groupby(\"five_year_bin\")[genre_cols].sum()\n",
        "\n",
        "print(\"=== 시대 × 장르별 영화 편수 ===\")\n",
        "print(genre_by_period)\n",
        "\n",
        "\n"
      ],
      "metadata": {
        "id": "-C8sJdjocTG8"
      },
      "execution_count": null,
      "outputs": []
    },
    {
      "cell_type": "code",
      "source": [
        "\n",
        "# ===== 2) 연도 & 5년 구간\n",
        "df[\"release_date\"] = pd.to_datetime(df[\"release_date\"], errors=\"coerce\")\n",
        "df[\"year\"] = df[\"release_date\"].dt.year\n",
        "df = df[df[\"year\"] >= 1980].copy()\n",
        "\n",
        "bins   = list(range(1980, 2025, 5))\n",
        "labels = [f\"{y}–{y+4}\" for y in bins[:-1]]\n",
        "df[\"five_year_bin\"] = pd.cut(df[\"year\"], bins=bins, labels=labels, right=True, include_lowest=True)\n",
        "\n",
        "# ===== 3) 장르 더미 컬럼 자동 선택\n",
        "genre_cols = df.loc[:, \"Action\":\"Western\"].columns.tolist()\n",
        "\n",
        "# ===== 4) 시대 × 장르별 편수\n",
        "count_tbl = df.groupby(\"five_year_bin\")[genre_cols].sum().reindex(labels).fillna(0).astype(int)\n",
        "\n",
        "# ===== 5) 각 장르 최초 등장 구간\n",
        "first_seen = {}\n",
        "for g in genre_cols:\n",
        "    nz = np.where(count_tbl[g].values > 0)[0]\n",
        "    first_seen[g] = labels[nz[0]] if len(nz) else None\n",
        "\n",
        "# ===== 6) 히트맵 시각화\n",
        "plt.figure(figsize=(14,8))\n",
        "sns.heatmap(count_tbl.T, cmap=\"YlGnBu\", linewidths=.5, linecolor=\"lightgray\", cbar_kws={\"label\":\"편수\"})\n",
        "plt.title(\"시대(5년) × 장르별 영화 편수\")\n",
        "plt.xlabel(\"5년 구간\")\n",
        "plt.ylabel(\"장르\")\n",
        "\n",
        "# ===== 7) 첫 등장 시점에 별표 표시\n",
        "for gi, g in enumerate(count_tbl.columns):  # five_year_bin 순회\n",
        "    pass  # (이건 X, 잘못됨)\n",
        "\n",
        "for gi, g in enumerate(count_tbl.columns):  # 여기서 g는 구간, 잘못\n",
        "    pass\n",
        "\n",
        "# 고침: index=구간, columns=장르 → 전치해서 M 사용\n",
        "M = count_tbl.T\n",
        "for gi, g in enumerate(M.index):\n",
        "    nz = np.where(M.loc[g].values > 0)[0]\n",
        "    if len(nz) > 0:\n",
        "        fi = nz[0]\n",
        "        plt.scatter(fi+0.5, gi+0.5, marker=\"*\", s=120, color=\"red\")  # 첫 등장 별표\n",
        "\n",
        "plt.tight_layout()\n",
        "plt.show()\n",
        "\n",
        "# ===== 8) 장르별 최초 등장 구간 출력\n",
        "print(\"=== 장르별 최초 등장 구간 ===\")\n",
        "for g, f in first_seen.items():\n",
        "    print(f\"{g:15s}: {f}\")\n"
      ],
      "metadata": {
        "id": "v23K8cw_fF7Q"
      },
      "execution_count": null,
      "outputs": []
    },
    {
      "cell_type": "code",
      "source": [
        "plt.figure(figsize=(12,7))\n",
        "for col in count_tbl.columns:   # 모든 장르\n",
        "    plt.plot(count_tbl.index, count_tbl[col], marker=\"o\", label=col, alpha=0.7)\n",
        "\n",
        "plt.title(\"시대별 모든 장르 영화 편수 추세\")\n",
        "plt.xlabel(\"5년 구간\")\n",
        "plt.ylabel(\"편수\")\n",
        "plt.xticks(rotation=45)\n",
        "plt.legend(bbox_to_anchor=(1.05, 1), loc=\"upper left\")  # 범례를 밖으로\n",
        "plt.tight_layout()\n",
        "plt.show()\n"
      ],
      "metadata": {
        "id": "ZPznBUg2fc0T"
      },
      "execution_count": null,
      "outputs": []
    },
    {
      "cell_type": "markdown",
      "source": [
        "파묘시작~"
      ],
      "metadata": {
        "id": "WOL51SeIQ-sW"
      }
    },
    {
      "cell_type": "markdown",
      "source": [
        "애니메이션-안정성의 원천이 공급 파이프라인(연 1~2편 대형 프랜차이즈) 때문인지,\n",
        "아니면 소수 스튜디오(디즈니/픽사/드림웍스 등) 스튜디오 효과인지.\n",
        "\n",
        "Family 동시 태깅의 비중: 실은 “애니=패밀리”가 많아 Family 하락을 일부 상쇄했을 가능성.\n",
        "\n",
        "예산·표본 규모가 꾸준했는지(대형작 몇 편에 성과가 집중되는지)."
      ],
      "metadata": {
        "id": "J_91rESmRxee"
      }
    },
    {
      "cell_type": "code",
      "source": [
        "\n",
        "# 애니 편수/성과 점유율\n",
        "ani_cnt  = df.groupby(\"period\")[\"Animation\"].sum()\n",
        "ani_perf = df.loc[df[\"Animation\"]==1].groupby(\"period\")[\"y_result\"].sum()\n",
        "share_ani_cnt  = (ani_cnt / tot * 100).reindex(labels)\n",
        "share_ani_perf = (ani_perf / df.groupby(\"period\")[\"y_result\"].sum() * 100).reindex(labels)\n",
        "\n",
        "print(\"Animation 편수 점유율(%):\\n\", share_ani_cnt.round(1))\n",
        "print(\"Animation 성과 점유율(%):\\n\", share_ani_perf.round(1))\n",
        "\n",
        "\n"
      ],
      "metadata": {
        "id": "7UDaZ5urS_nC"
      },
      "execution_count": null,
      "outputs": []
    },
    {
      "cell_type": "code",
      "source": [],
      "metadata": {
        "id": "fY4QwjcyTiuQ"
      },
      "execution_count": null,
      "outputs": []
    },
    {
      "cell_type": "code",
      "source": [
        "\n",
        "\n",
        "def summarize_animation(df, start=1990, end=2025, step=5):\n",
        "    df = df.copy()\n",
        "    # 날짜 → 연도 → 5년 구간(period)\n",
        "    df[\"release_date\"] = pd.to_datetime(df[\"release_date\"], errors=\"coerce\")\n",
        "    df[\"year\"] = df[\"release_date\"].dt.year\n",
        "    df = df[(df[\"year\"] >= start) & (df[\"year\"] <= end)].copy()\n",
        "\n",
        "    bins   = list(range(start, end + step, step))\n",
        "    labels = [f\"{y}–{y+step-1}\" for y in bins[:-1]]\n",
        "    df[\"period\"] = pd.cut(df[\"year\"], bins=bins, labels=labels,\n",
        "                          include_lowest=True, right=True)\n",
        "\n",
        "    # 전체 분모 (편수/성과 합)\n",
        "    totals_cnt  = df.groupby(\"period\", observed=False).size().reindex(labels).astype(float)\n",
        "    totals_perf = df.groupby(\"period\", observed=False)[\"y_result\"].sum().reindex(labels).astype(float)\n",
        "\n",
        "    # 애니 편수/성과/평균\n",
        "    ani_cnt  = df.groupby(\"period\", observed=False)[\"Animation\"].sum().reindex(labels).fillna(0.0)\n",
        "    ani_perf = df.loc[df[\"Animation\"]==1].groupby(\"period\", observed=False)[\"y_result\"] \\\n",
        "                 .sum().reindex(labels).fillna(0.0)\n",
        "    ani_mean = df.loc[df[\"Animation\"]==1].groupby(\"period\", observed=False)[\"y_result\"] \\\n",
        "                 .mean().reindex(labels)\n",
        "\n",
        "    # 점유율(%) — 분모=0 또는 편수=0이면 0으로 표기\n",
        "    share_cnt  = ((ani_cnt  / totals_cnt.replace(0, np.nan))  * 100).fillna(0.0)\n",
        "    share_perf = ((ani_perf / totals_perf.replace(0, np.nan)) * 100).fillna(0.0)\n",
        "\n",
        "    excess_pp = (share_perf - share_cnt).fillna(0.0)\n",
        "\n",
        "    summary = pd.DataFrame({\n",
        "        \"count\": ani_cnt,\n",
        "        \"count_share_%\": share_cnt,\n",
        "        \"perf_sum\": ani_perf,\n",
        "        \"perf_share_%\": share_perf,\n",
        "        \"mean_y_result\": ani_mean,      # 표본 없으면 NaN 유지\n",
        "        \"excess_perf_pp\": excess_pp\n",
        "    }).reindex(labels).round(2)\n",
        "\n",
        "    return summary, labels\n",
        "\n",
        "# ---- 실행 ----\n",
        "anim_summary, labels = summarize_animation(df, start=1990, end=2025, step=5)\n",
        "print(anim_summary)\n",
        "\n",
        "\n",
        "\n",
        "\n",
        "\n"
      ],
      "metadata": {
        "id": "OWsBzwy-R7nU"
      },
      "execution_count": null,
      "outputs": []
    },
    {
      "cell_type": "code",
      "source": [
        "# (1) 애니 제작 편수\n",
        "plt.figure(figsize=(9,4))\n",
        "plt.bar(anim_summary.index.astype(str), anim_summary[\"count\"])\n",
        "plt.title(\"Animation 제작 편수 (5년 단위)\")\n",
        "plt.xlabel(\"Period\"); plt.ylabel(\"편수\")\n",
        "plt.xticks(rotation=45, ha=\"right\")\n",
        "plt.tight_layout(); plt.show()\n",
        "\n"
      ],
      "metadata": {
        "id": "wTdLvPVzdFdu"
      },
      "execution_count": null,
      "outputs": []
    },
    {
      "cell_type": "code",
      "source": [
        "\n",
        "# (2) 점유율(편수% vs 성과%) 오버레이\n",
        "plt.figure(figsize=(9,4))\n",
        "plt.plot(anim_summary.index.astype(str), anim_summary[\"count_share_%\"], marker=\"o\", label=\"편수 점유율(%)\")\n",
        "plt.plot(anim_summary.index.astype(str), anim_summary[\"perf_share_%\"],  marker=\"o\", label=\"성과 점유율(%)\")\n",
        "plt.title(\"Animation 점유율(%) — 편수 vs 성과\")\n",
        "plt.xlabel(\"Period\"); plt.ylabel(\"%\")\n",
        "plt.legend()\n",
        "plt.xticks(rotation=45, ha=\"right\")\n",
        "plt.tight_layout(); plt.show()\n",
        "\n"
      ],
      "metadata": {
        "id": "wlXPY4m7dHgZ"
      },
      "execution_count": null,
      "outputs": []
    },
    {
      "cell_type": "code",
      "source": [
        "\n",
        "\n",
        "# (3) 성과 합(y_result)\n",
        "plt.figure(figsize=(9,4))\n",
        "plt.bar(anim_summary.index.astype(str), anim_summary[\"perf_sum\"])\n",
        "plt.title(\"Animation 성과 합 (y_result)\")\n",
        "plt.xlabel(\"Period\"); plt.ylabel(\"합계 y_result\")\n",
        "plt.xticks(rotation=45, ha=\"right\")\n",
        "plt.tight_layout(); plt.show()\n",
        "\n",
        "\n"
      ],
      "metadata": {
        "id": "xit8FnntdJHh"
      },
      "execution_count": null,
      "outputs": []
    },
    {
      "cell_type": "code",
      "source": [
        "\n",
        "\n",
        "# (4) 성과 초과(퍼센트p) = 성과% − 편수%\n",
        "plt.figure(figsize=(9,4))\n",
        "plt.plot(anim_summary.index.astype(str), anim_summary[\"excess_perf_pp\"], marker=\"o\")\n",
        "plt.axhline(0, color=\"gray\", linestyle=\"--\", linewidth=1)\n",
        "plt.title(\"Animation 성과 초과 (퍼센트p)\")\n",
        "plt.xlabel(\"Period\"); plt.ylabel(\"퍼센트p\")\n",
        "plt.xticks(rotation=45, ha=\"right\")\n",
        "plt.tight_layout(); plt.show()\n"
      ],
      "metadata": {
        "id": "7l8uzlQ2dLQ2"
      },
      "execution_count": null,
      "outputs": []
    },
    {
      "cell_type": "code",
      "source": [
        "xs = np.arange(len(anim_summary))\n",
        "y  = anim_summary[\"mean_y_result\"].values\n",
        "n  = anim_summary[\"count\"].values  # 표본수\n",
        "\n",
        "plt.figure(figsize=(9,4))\n",
        "plt.plot(xs, y, marker=\"o\")\n",
        "# 각 점 위에 표본수 표시 (NaN은 건너뜀)\n",
        "for xi, yi, ni in zip(xs, y, n):\n",
        "    if not np.isnan(yi):\n",
        "        plt.text(xi, yi, f\"n={int(ni)}\", ha=\"center\", va=\"bottom\", fontsize=9)\n",
        "\n",
        "plt.title(\"Animation 평균 y_result (5년 단위)\")\n",
        "plt.xlabel(\"Period\"); plt.ylabel(\"평균 y_result\")\n",
        "plt.xticks(xs, anim_summary.index.astype(str), rotation=45, ha=\"right\")\n",
        "plt.tight_layout(); plt.show()"
      ],
      "metadata": {
        "id": "Lp4SsOY4cwA0"
      },
      "execution_count": null,
      "outputs": []
    },
    {
      "cell_type": "code",
      "source": [
        "\n",
        "df = df.copy()\n",
        "df[\"release_date\"] = pd.to_datetime(df[\"release_date\"], errors=\"coerce\")\n",
        "df[\"year\"] = df[\"release_date\"].dt.year\n",
        "df = df[(df[\"year\"] >= 1990) & (df[\"year\"] <= 2025)].copy()\n",
        "\n",
        "bins   = list(range(1990, 2030, 5))\n",
        "labels = [f\"{y}–{y+4}\" for y in bins[:-1]]\n",
        "df[\"period\"] = pd.cut(df[\"year\"], bins=bins, labels=labels, include_lowest=True, right=True)\n",
        "\n",
        "# ==========================================================\n",
        "# (A) 애니메이션 중 Family 동시태깅 비율 (Animation → Family)\n",
        "# ==========================================================\n",
        "ani = df[df[\"Animation\"] == 1].copy()\n",
        "grp = ani.groupby(\"period\", observed=False).agg(\n",
        "    anim_n = (\"Animation\", \"size\"),\n",
        "    fam_n  = (\"Family\", \"sum\")\n",
        ").reindex(labels).fillna(0)\n",
        "\n",
        "rate = (grp[\"fam_n\"] / grp[\"anim_n\"].replace(0, np.nan) * 100).fillna(0)\n",
        "\n",
        "plt.figure(figsize=(10,4))\n",
        "plt.plot(rate.index.astype(str), rate.values, marker=\"o\")\n",
        "# n(애니 편수) 라벨\n",
        "for x, y, n in zip(rate.index.astype(str), rate.values, grp[\"anim_n\"].astype(int).values):\n",
        "    if n > 0:\n",
        "        plt.text(x, y, f\"{y:.0f}% (n={n})\", ha=\"center\", va=\"bottom\", fontsize=9)\n",
        "    else:\n",
        "        plt.text(x, y, \"0% (n=0)\", ha=\"center\", va=\"bottom\", fontsize=9)\n",
        "plt.ylim(0, 100)\n",
        "plt.title(\"애니메이션 중 Family 동시태깅 비율 (5년 단위)\")\n",
        "plt.xlabel(\"Period\"); plt.ylabel(\"비율(%)\")\n",
        "plt.xticks(rotation=45, ha=\"right\")\n",
        "plt.tight_layout()\n",
        "plt.show()\n",
        "\n",
        "# ==================================================================\n",
        "# (B) Family 내부에서 애니 vs 실사 구성비 (Family → Animation / Live)\n",
        "#     → “패밀리=애니”로 재배치 여부를 100% 스택으로 확인\n",
        "# ==================================================================\n",
        "fam = df[df[\"Family\"] == 1].copy()\n",
        "fam[\"is_animation\"] = fam[\"Animation\"].eq(1).astype(int)\n",
        "fam[\"is_live\"] = (~fam[\"Animation\"].eq(1)).astype(int)\n",
        "\n",
        "mix = fam.groupby(\"period\", observed=False)[[\"is_animation\",\"is_live\"]].sum().reindex(labels).fillna(0)\n",
        "mix_pct = mix.div(mix.sum(axis=1).replace(0, np.nan), axis=0).fillna(0) * 100\n",
        "\n",
        "ax = mix_pct.rename(columns={\"is_animation\":\"Animation\", \"is_live\":\"Live-action\"}).plot(\n",
        "    kind=\"bar\", stacked=True, figsize=(10,4), alpha=0.9\n",
        ")\n",
        "ax.set_title(\"Family 내부 구성비(%) — Animation vs Live-action\")\n",
        "ax.set_xlabel(\"Period\"); ax.set_ylabel(\"비율(%)\")\n",
        "for container in ax.containers:  # 막대 내부 퍼센트 라벨(작은 값은 생략)\n",
        "    labels_ = [f\"{h.get_height():.0f}%\" if h.get_height() >= 8 else \"\" for h in container]\n",
        "    ax.bar_label(container, labels=labels_, label_type=\"center\", fontsize=9)\n",
        "plt.xticks(rotation=45, ha=\"right\")\n",
        "plt.tight_layout()\n",
        "plt.show()\n"
      ],
      "metadata": {
        "id": "AiP1Lykoi9s8"
      },
      "execution_count": null,
      "outputs": []
    },
    {
      "cell_type": "code",
      "source": [
        "\n",
        "\n",
        "# 1) 애니 → 패밀리 (P(Family | Animation))\n",
        "ani = df[df[\"Animation\"]==1].copy()\n",
        "p_family_given_ani = (\n",
        "    ani.groupby(\"period\")[\"Family\"].mean() * 100\n",
        ").reindex(labels).fillna(0).round(1)\n",
        "\n",
        "# 2) 패밀리 → 애니 (P(Animation | Family))\n",
        "fam = df[df[\"Family\"]==1].copy()\n",
        "p_ani_given_family = (\n",
        "    fam.groupby(\"period\")[\"Animation\"].mean() * 100\n",
        ").reindex(labels).fillna(0).round(1)\n",
        "\n",
        "# 3) 동시태깅 ‘편수’도 같이\n",
        "both_cnt = df.groupby(\"period\").apply(lambda x: ((x[\"Animation\"]==1)&(x[\"Family\"]==1)).sum()) \\\n",
        "             .reindex(labels).fillna(0).astype(int)\n",
        "\n",
        "print(\"P(Family | Animation) %:\\n\", p_family_given_ani)\n",
        "print(\"\\nP(Animation | Family) %:\\n\", p_ani_given_family)\n",
        "print(\"\\n동시태깅 편수(애니∩패밀리):\\n\", both_cnt)\n"
      ],
      "metadata": {
        "id": "CyRE5qS4j0Kw"
      },
      "execution_count": null,
      "outputs": []
    },
    {
      "cell_type": "code",
      "source": [
        "\n",
        "x = np.arange(len(labels))\n",
        "x_labels = [str(s) for s in labels]\n",
        "\n",
        "plt.figure(figsize=(10,4))\n",
        "plt.plot(x, p_family_given_ani.values, marker=\"o\", label=\"P(Family | Animation)\")\n",
        "plt.plot(x, p_ani_given_family.values, marker=\"o\", label=\"P(Animation | Family)\")\n",
        "plt.ylim(0, 100)\n",
        "plt.title(\"애니↔패밀리 동시태깅 조건부 비율 (5년 단위)\")\n",
        "plt.xlabel(\"Period\"); plt.ylabel(\"비율(%)\")\n",
        "plt.xticks(x, x_labels, rotation=45, ha=\"right\")\n",
        "plt.legend()\n",
        "\n",
        "\n",
        "\n"
      ],
      "metadata": {
        "id": "TqT38O5NklrR"
      },
      "execution_count": null,
      "outputs": []
    },
    {
      "cell_type": "code",
      "source": [
        "\n",
        "# ---------- (2) 동시태깅 편수 + (애니 기준) 동시태깅률 ----------\n",
        "# 애니 중 동시태깅률 = both_cnt / ani_n * 100\n",
        "both_rate_in_ani = np.where(ani_n.values>0, (both_cnt.values / ani_n.values) * 100, np.nan)\n",
        "\n",
        "fig, ax1 = plt.subplots(figsize=(10,4))\n",
        "ax1.bar(x, both_cnt.values)\n",
        "ax1.set_title(\"애니∩패밀리 동시태깅: 편수 & 애니 기준 동시태깅률\")\n",
        "ax1.set_xlabel(\"Period\"); ax1.set_ylabel(\"동시태깅 편수\")\n",
        "ax1.set_xticks(x); ax1.set_xticklabels(x_labels, rotation=45, ha=\"right\")\n",
        "\n",
        "# 보조축: 동시태깅률(애니 기준)\n",
        "ax2 = ax1.twinx()\n",
        "ax2.plot(x, both_rate_in_ani, marker=\"o\")\n",
        "ax2.set_ylabel(\"애니 중 동시태깅률(%)\")\n",
        "ax2.set_ylim(0, 100)\n",
        "\n",
        "# 막대 위에 편수 라벨\n",
        "for xi, v in zip(x, both_cnt.values):\n",
        "    if v > 0:\n",
        "        ax1.text(xi, v, str(int(v)), ha=\"center\", va=\"bottom\", fontsize=9)\n",
        "\n",
        "plt.tight_layout()\n",
        "plt.show()"
      ],
      "metadata": {
        "id": "5Jy75Rtfk2nU"
      },
      "execution_count": null,
      "outputs": []
    },
    {
      "cell_type": "code",
      "source": [
        "# (선택) CSV 저장\n",
        "# anim_summary.to_csv(\"animation_5y_summary.csv\", encoding=\"utf-8-sig\")\n"
      ],
      "metadata": {
        "id": "RFwz0txFdAqc"
      },
      "execution_count": null,
      "outputs": []
    }
  ]
}